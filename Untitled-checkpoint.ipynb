{
 "cells": [
  {
   "cell_type": "code",
   "execution_count": 4,
   "id": "364edbd0-0156-428d-84b7-d6169a62a4fb",
   "metadata": {},
   "outputs": [
    {
     "name": "stdout",
     "output_type": "stream",
     "text": [
      "49\n",
      "0\n"
     ]
    }
   ],
   "source": [
    "print(7*7)\n",
    "print(7-7)"
   ]
  },
  {
   "cell_type": "code",
   "execution_count": 6,
   "id": "e6042e8f-938e-4bff-9b8f-08fa490c79c1",
   "metadata": {},
   "outputs": [
    {
     "name": "stdout",
     "output_type": "stream",
     "text": [
      "지금은 \"AI프로그래밍\" 시간입니다.\n"
     ]
    },
    {
     "name": "stdin",
     "output_type": "stream",
     "text": [
      "첫 번째 숫자를 입력하세요. 8\n",
      "두 번째 숫자를 입력하세요. 2\n"
     ]
    },
    {
     "name": "stdout",
     "output_type": "stream",
     "text": [
      "10 6 16 4.0\n"
     ]
    }
   ],
   "source": [
    "print('지금은 \"AI프로그래밍\" 시간입니다.')\n",
    "\n",
    "a=input(\"첫 번째 숫자를 입력하세요.\")\n",
    "b=input(\"두 번째 숫자를 입력하세요.\")\n",
    "a=int(a)\n",
    "b=int(b)\n",
    "\n",
    "print(a+b,a-b,a*b,a/b)"
   ]
  },
  {
   "cell_type": "code",
   "execution_count": 7,
   "id": "4162121a-3c8e-4871-bf23-e5f62760cd8e",
   "metadata": {},
   "outputs": [
    {
     "name": "stdin",
     "output_type": "stream",
     "text": [
      "어느 캠퍼스에 다니시나요? 춘천캠퍼스\n"
     ]
    },
    {
     "name": "stdout",
     "output_type": "stream",
     "text": [
      "저는 한국폴리텍대학 춘천캠퍼스 에 재학중입니다.\n"
     ]
    }
   ],
   "source": [
    "campus=input(\"어느 캠퍼스에 다니시나요?\")\n",
    "print(\"저는 한국폴리텍대학\",campus,\"에 재학중입니다.\")"
   ]
  },
  {
   "cell_type": "code",
   "execution_count": 22,
   "id": "8b3cc747-b8ee-41c5-bceb-c3e2bb72bc2d",
   "metadata": {},
   "outputs": [
    {
     "name": "stdout",
     "output_type": "stream",
     "text": [
      "파이썬은 처음 배웁니다.\n",
      "1 2 3 4 5\n",
      "KOREA POLYTECHICS 한국폴리텍대학 100\n"
     ]
    }
   ],
   "source": [
    "print(\"파이썬은 처음 배웁니다.\")\n",
    "print(1,2,3,4,5)\n",
    "print(\"KOREA POLYTECHICS\",'한국폴리텍대학',100)"
   ]
  },
  {
   "cell_type": "code",
   "execution_count": 28,
   "id": "c785bf58-dca5-46d8-a651-6dcf2ef859d1",
   "metadata": {},
   "outputs": [
    {
     "data": {
      "text/plain": [
       "(10, 6, 16, 4.0)"
      ]
     },
     "execution_count": 28,
     "metadata": {},
     "output_type": "execute_result"
    }
   ],
   "source": [
    "a = 8\n",
    "b = 2\n",
    "a+b, a-b, a*b, a/b"
   ]
  },
  {
   "cell_type": "code",
   "execution_count": 29,
   "id": "d26166b1-db52-42a5-a11c-e82c8026818e",
   "metadata": {},
   "outputs": [
    {
     "data": {
      "text/plain": [
       "16"
      ]
     },
     "execution_count": 29,
     "metadata": {},
     "output_type": "execute_result"
    }
   ],
   "source": [
    "학과수=8\n",
    "학급수=2\n",
    "학과수*학급수"
   ]
  },
  {
   "cell_type": "code",
   "execution_count": 33,
   "id": "e88dfff0-fa83-4e4f-8432-dd778603f7e3",
   "metadata": {},
   "outputs": [
    {
     "name": "stdin",
     "output_type": "stream",
     "text": [
      "반지름을 입력하세요 8\n"
     ]
    },
    {
     "name": "stdout",
     "output_type": "stream",
     "text": [
      "원주= 50.24 넓이= 200.96\n"
     ]
    }
   ],
   "source": [
    "r=float(input(\"반지름을 입력하세요\"))\n",
    "pi=3.14\n",
    "print(\"원주=\",2*pi*r,\"넓이=\",pi*r*r)"
   ]
  },
  {
   "cell_type": "code",
   "execution_count": 17,
   "id": "a0ef30f5-7154-482c-83c8-fe72c985fdef",
   "metadata": {},
   "outputs": [
    {
     "name": "stdin",
     "output_type": "stream",
     "text": [
      "키를 입력하세요 1.7\n",
      "몸무게를 입력하세요 70\n"
     ]
    },
    {
     "name": "stdout",
     "output_type": "stream",
     "text": [
      "당신의 BMI= 0.04857142857142857 입니다.\n"
     ]
    }
   ],
   "source": [
    "m=float(input(\"키를 입력하세요\"))\n",
    "kg=int(input(\"몸무게를 입력하세요\"))\n",
    "print(\"당신의 BMI=\",m / kg *2,\"입니다.\")\n"
   ]
  },
  {
   "cell_type": "code",
   "execution_count": 3,
   "id": "a1f298f5-b9e7-496f-96dc-e3587c6f0d76",
   "metadata": {},
   "outputs": [
    {
     "name": "stdin",
     "output_type": "stream",
     "text": [
      "실수를 입력하세요. 8.2\n"
     ]
    },
    {
     "data": {
      "text/plain": [
       "8.2"
      ]
     },
     "execution_count": 3,
     "metadata": {},
     "output_type": "execute_result"
    }
   ],
   "source": [
    "a=float(input(\"실수를 입력하세요.\"))\n",
    "a"
   ]
  },
  {
   "cell_type": "code",
   "execution_count": 4,
   "id": "e3325712-a83e-4b82-9217-7c2e11719f84",
   "metadata": {},
   "outputs": [
    {
     "data": {
      "text/plain": [
       "(77, '0b1001101', '0o115', '0x4d')"
      ]
     },
     "execution_count": 4,
     "metadata": {},
     "output_type": "execute_result"
    }
   ],
   "source": [
    "a=77\n",
    "b=bin(a)\n",
    "o=oct(a)\n",
    "h=hex(a)\n",
    "a,b,o,h"
   ]
  },
  {
   "cell_type": "code",
   "execution_count": 7,
   "id": "76324789-d927-4793-82f0-0796bfdb0dc6",
   "metadata": {},
   "outputs": [
    {
     "data": {
      "text/plain": [
       "'NCT MARK'"
      ]
     },
     "execution_count": 7,
     "metadata": {},
     "output_type": "execute_result"
    }
   ],
   "source": [
    "group=\"NCT \"\n",
    "name=\"MARK\"\n",
    "group+name"
   ]
  },
  {
   "cell_type": "code",
   "execution_count": 11,
   "id": "f65aad56-d0ed-44f0-bfde-d966f16caceb",
   "metadata": {},
   "outputs": [
    {
     "data": {
      "text/plain": [
       "'MARK MARK MARK '"
      ]
     },
     "execution_count": 11,
     "metadata": {},
     "output_type": "execute_result"
    }
   ],
   "source": [
    "a=\"MARK \"\n",
    "a*3"
   ]
  },
  {
   "cell_type": "code",
   "execution_count": 12,
   "id": "a3b74697-04ff-4805-b59c-1c554ebfc3cc",
   "metadata": {},
   "outputs": [
    {
     "data": {
      "text/plain": [
       "4"
      ]
     },
     "execution_count": 12,
     "metadata": {},
     "output_type": "execute_result"
    }
   ],
   "source": [
    "a=\"MARK\"\n",
    "len(a)"
   ]
  }
 ],
 "metadata": {
  "kernelspec": {
   "display_name": "Python 3 (ipykernel)",
   "language": "python",
   "name": "python3"
  },
  "language_info": {
   "codemirror_mode": {
    "name": "ipython",
    "version": 3
   },
   "file_extension": ".py",
   "mimetype": "text/x-python",
   "name": "python",
   "nbconvert_exporter": "python",
   "pygments_lexer": "ipython3",
   "version": "3.9.13"
  }
 },
 "nbformat": 4,
 "nbformat_minor": 5
}
